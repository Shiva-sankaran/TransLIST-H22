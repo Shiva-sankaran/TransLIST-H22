{
 "cells": [
  {
   "cell_type": "code",
   "execution_count": 25,
   "metadata": {},
   "outputs": [],
   "source": [
    "import pandas as pd\n"
   ]
  },
  {
   "cell_type": "code",
   "execution_count": 33,
   "metadata": {},
   "outputs": [],
   "source": [
    "df = pd.read_csv(\"/home/vp.shivasan/word_segmentation/TransLIST-H22/H22-data/collection1_sent_dummy.csv\")"
   ]
  },
  {
   "cell_type": "code",
   "execution_count": 34,
   "metadata": {},
   "outputs": [
    {
     "data": {
      "text/html": [
       "<div>\n",
       "<style scoped>\n",
       "    .dataframe tbody tr th:only-of-type {\n",
       "        vertical-align: middle;\n",
       "    }\n",
       "\n",
       "    .dataframe tbody tr th {\n",
       "        vertical-align: top;\n",
       "    }\n",
       "\n",
       "    .dataframe thead th {\n",
       "        text-align: right;\n",
       "    }\n",
       "</style>\n",
       "<table border=\"1\" class=\"dataframe\">\n",
       "  <thead>\n",
       "    <tr style=\"text-align: right;\">\n",
       "      <th></th>\n",
       "      <th>Unnamed: 0</th>\n",
       "      <th>UID</th>\n",
       "      <th>input</th>\n",
       "      <th>output</th>\n",
       "    </tr>\n",
       "  </thead>\n",
       "  <tbody>\n",
       "    <tr>\n",
       "      <th>0</th>\n",
       "      <td>0</td>\n",
       "      <td>306690</td>\n",
       "      <td>medasvino_viSoDyA_ye_ca_narAH_kuzWamehArtAH</td>\n",
       "      <td>medasvinaH_viSoDyAH_ye_ca_narAH_kuzWa_meha_ArtAH</td>\n",
       "    </tr>\n",
       "    <tr>\n",
       "      <th>1</th>\n",
       "      <td>1</td>\n",
       "      <td>135745</td>\n",
       "      <td>smarantI_tasya_mandasya_kaM_vA_sAdyopatizWati</td>\n",
       "      <td>smarantI_tasya_mandasya_kam_vA_sA_adya_upatizWati</td>\n",
       "    </tr>\n",
       "    <tr>\n",
       "      <th>2</th>\n",
       "      <td>2</td>\n",
       "      <td>19559</td>\n",
       "      <td>te_vA_ete_yajQakramAH</td>\n",
       "      <td>te_vA_ete_yajQa_kramAH</td>\n",
       "    </tr>\n",
       "    <tr>\n",
       "      <th>3</th>\n",
       "      <td>3</td>\n",
       "      <td>593287</td>\n",
       "      <td>imaM_navajvare_dadyAnmAzamAtraM_rasasya_tu</td>\n",
       "      <td>imam_navajvare_dadyAt_mAza_mAtram_rasasya_tu</td>\n",
       "    </tr>\n",
       "    <tr>\n",
       "      <th>4</th>\n",
       "      <td>4</td>\n",
       "      <td>100331</td>\n",
       "      <td>lokayAtrA_hi_kArtsnyena_trizvetezu_pratizWitA</td>\n",
       "      <td>lokayAtrA_hi_kArtsnyena_trizu_etezu_pratizWitA</td>\n",
       "    </tr>\n",
       "    <tr>\n",
       "      <th>...</th>\n",
       "      <td>...</td>\n",
       "      <td>...</td>\n",
       "      <td>...</td>\n",
       "      <td>...</td>\n",
       "    </tr>\n",
       "    <tr>\n",
       "      <th>509288</th>\n",
       "      <td>509288</td>\n",
       "      <td>351732</td>\n",
       "      <td>mRtajAta_iti_so_'pavidDo_rahasyanirBedaBayAtpa...</td>\n",
       "      <td>mRta_jAtaH_iti_saH_apavidDaH_rahasya_nirBeda_B...</td>\n",
       "    </tr>\n",
       "    <tr>\n",
       "      <th>509289</th>\n",
       "      <td>509289</td>\n",
       "      <td>511995</td>\n",
       "      <td>etadvaH_kaTitaM_sarvaM_kaTAsarvasvamAdarAt</td>\n",
       "      <td>etat_vaH_kaTitam_sarvam_kaTA_sarvasvam_AdarAt_</td>\n",
       "    </tr>\n",
       "    <tr>\n",
       "      <th>509290</th>\n",
       "      <td>509290</td>\n",
       "      <td>185665</td>\n",
       "      <td>tatastad_astraM_sahasA_sRzwaM_gANxIvaDanvanA</td>\n",
       "      <td>tatas_tat_astram_sahasA_sRzwam_gANxIvaDanvanA</td>\n",
       "    </tr>\n",
       "    <tr>\n",
       "      <th>509291</th>\n",
       "      <td>509291</td>\n",
       "      <td>345651</td>\n",
       "      <td>srotojaSaFKaPenAlEr_leKanaM_mastukalkitEH</td>\n",
       "      <td>srotoja_SaFKa_Pena_AlEH_leKanam_mastu_kalkitEH</td>\n",
       "    </tr>\n",
       "    <tr>\n",
       "      <th>509292</th>\n",
       "      <td>509292</td>\n",
       "      <td>237462</td>\n",
       "      <td>devayogAzwake_dve_hi_pratyekAFgulapAdataH</td>\n",
       "      <td>deva_yoga_azwake_dve_hi_pratyeka_aFgula_pAdataH</td>\n",
       "    </tr>\n",
       "  </tbody>\n",
       "</table>\n",
       "<p>509293 rows × 4 columns</p>\n",
       "</div>"
      ],
      "text/plain": [
       "        Unnamed: 0     UID                                              input  \\\n",
       "0                0  306690        medasvino_viSoDyA_ye_ca_narAH_kuzWamehArtAH   \n",
       "1                1  135745      smarantI_tasya_mandasya_kaM_vA_sAdyopatizWati   \n",
       "2                2   19559                              te_vA_ete_yajQakramAH   \n",
       "3                3  593287         imaM_navajvare_dadyAnmAzamAtraM_rasasya_tu   \n",
       "4                4  100331      lokayAtrA_hi_kArtsnyena_trizvetezu_pratizWitA   \n",
       "...            ...     ...                                                ...   \n",
       "509288      509288  351732  mRtajAta_iti_so_'pavidDo_rahasyanirBedaBayAtpa...   \n",
       "509289      509289  511995         etadvaH_kaTitaM_sarvaM_kaTAsarvasvamAdarAt   \n",
       "509290      509290  185665       tatastad_astraM_sahasA_sRzwaM_gANxIvaDanvanA   \n",
       "509291      509291  345651          srotojaSaFKaPenAlEr_leKanaM_mastukalkitEH   \n",
       "509292      509292  237462          devayogAzwake_dve_hi_pratyekAFgulapAdataH   \n",
       "\n",
       "                                                   output  \n",
       "0        medasvinaH_viSoDyAH_ye_ca_narAH_kuzWa_meha_ArtAH  \n",
       "1       smarantI_tasya_mandasya_kam_vA_sA_adya_upatizWati  \n",
       "2                                  te_vA_ete_yajQa_kramAH  \n",
       "3            imam_navajvare_dadyAt_mAza_mAtram_rasasya_tu  \n",
       "4          lokayAtrA_hi_kArtsnyena_trizu_etezu_pratizWitA  \n",
       "...                                                   ...  \n",
       "509288  mRta_jAtaH_iti_saH_apavidDaH_rahasya_nirBeda_B...  \n",
       "509289     etat_vaH_kaTitam_sarvam_kaTA_sarvasvam_AdarAt_  \n",
       "509290      tatas_tat_astram_sahasA_sRzwam_gANxIvaDanvanA  \n",
       "509291     srotoja_SaFKa_Pena_AlEH_leKanam_mastu_kalkitEH  \n",
       "509292    deva_yoga_azwake_dve_hi_pratyeka_aFgula_pAdataH  \n",
       "\n",
       "[509293 rows x 4 columns]"
      ]
     },
     "execution_count": 34,
     "metadata": {},
     "output_type": "execute_result"
    }
   ],
   "source": [
    "df"
   ]
  },
  {
   "cell_type": "code",
   "execution_count": 32,
   "metadata": {},
   "outputs": [],
   "source": [
    "df.to_csv(\"/home/vp.shivasan/word_segmentation/TransLIST-H22/H22-data/collection1_sent_dummy.csv\")"
   ]
  },
  {
   "cell_type": "code",
   "execution_count": 24,
   "metadata": {},
   "outputs": [
    {
     "data": {
      "text/plain": [
       "False"
      ]
     },
     "execution_count": 24,
     "metadata": {},
     "output_type": "execute_result"
    }
   ],
   "source": [
    "'ete_cAnye_ca_bahavo_guNA_yasmin_dvijottame' in df['input'].values"
   ]
  },
  {
   "cell_type": "code",
   "execution_count": 6,
   "metadata": {},
   "outputs": [
    {
     "data": {
      "text/plain": [
       "array(['vahnijAraH_svanAmaKyAtaH_paScimasAgarasamBUtaH_OzaDiviSezaH',\n",
       "       'lohAzwakam_azwalohaM_tacca_svarNarOpyatAmravaFgasIsapittalakAntalOhatIkzNalohAtmakam',\n",
       "       'pANxuraM_SvetapItamiSravarNam', ...,\n",
       "       'varzabalAhakAnAM_devaputrANAmAjQA_dattA_azwAFgopetasya',\n",
       "       'ninye_cAsAvahanyanyasminnunmizaty_rAjaputro_rAjAFgaNaM_rakziBiH',\n",
       "       \"apy_evam_arya_BagavAn_paripAti_vatsakam_anugrahakAtaro_'smAn\"],\n",
       "      dtype=object)"
      ]
     },
     "execution_count": 6,
     "metadata": {},
     "output_type": "execute_result"
    }
   ],
   "source": [
    "df['input'].values"
   ]
  },
  {
   "cell_type": "code",
   "execution_count": 12,
   "metadata": {},
   "outputs": [],
   "source": [
    "from rapidfuzz import process\n",
    "from rapidfuzz import fuzz\n",
    "from tqdm import tqdm\n",
    "import json"
   ]
  },
  {
   "cell_type": "code",
   "execution_count": 8,
   "metadata": {},
   "outputs": [
    {
     "data": {
      "text/plain": [
       "('ete_cAnye_ca_bahavo_guNAH_pANxusutezu_vE', 73.17073170731707, 37860)"
      ]
     },
     "execution_count": 8,
     "metadata": {},
     "output_type": "execute_result"
    }
   ],
   "source": [
    "process.extractOne(query = 'ete_cAnye_ca_bahavo_guNA_yasmin_dvijottame',choices = list(df['input'].values),scorer=fuzz.ratio)"
   ]
  },
  {
   "cell_type": "code",
   "execution_count": 16,
   "metadata": {},
   "outputs": [],
   "source": [
    "query_sent = 'ete_cAnye_ca_bahavo_guNAH_pANxusutezu_vE'"
   ]
  },
  {
   "cell_type": "code",
   "execution_count": 13,
   "metadata": {},
   "outputs": [
    {
     "name": "stderr",
     "output_type": "stream",
     "text": [
      "100%|██████████| 29828630/29828630 [00:19<00:00, 1518723.88it/s]\n"
     ]
    }
   ],
   "source": [
    "class H22_data():\n",
    "    def __init__(self):\n",
    "        self.char_data_path = '/home/vp.shivasan/word_segmentation/working_dir/data/H22/char_data.txt'\n",
    "        self.meta_data_path = '/home/vp.shivasan/word_segmentation/working_dir/data/H22/char_data.json'\n",
    "        self.data = {}\n",
    "        self.meta_data = {}\n",
    "\n",
    "        with open(self.char_data_path,'r') as f:\n",
    "            lines = f.readlines()\n",
    "        \n",
    "        for line in tqdm(lines):\n",
    "            if(line.startswith('UID')):\n",
    "                UID = int(line.split(' ')[-1])\n",
    "                self.data[UID] = []\n",
    "            else:\n",
    "                self.data[UID].append(line)\n",
    "\n",
    "        with open(self.meta_data_path,'r') as f:\n",
    "            self.meta_data = json.load(f)\n",
    "\n",
    "    def __len__(self):\n",
    "        return len(self.data)\n",
    "\n",
    "    def return_char_data(self,UID):\n",
    "        return self.data[UID]\n",
    "    def return_sentence_data(self,UID):\n",
    "        char_data = self.return_char_data(UID)\n",
    "        input_sent = output_sent = ''\n",
    "        for ele in char_data:\n",
    "            if(ele == '\\n'):\n",
    "                continue\n",
    "            i,o = ele.strip().split(' ')\n",
    "            input_sent+=i\n",
    "            output_sent+=o\n",
    "        return {'input_sent':input_sent,'output_sent':output_sent}\n",
    "H22_data_obj = H22_data()"
   ]
  },
  {
   "cell_type": "code",
   "execution_count": 18,
   "metadata": {},
   "outputs": [
    {
     "name": "stdout",
     "output_type": "stream",
     "text": [
      "Found\n",
      "107682\n",
      "Not found\n"
     ]
    }
   ],
   "source": [
    "for UID in range(len(H22_data_obj)):\n",
    "    sent_data = H22_data_obj.return_sentence_data(UID)\n",
    "    input_sent = sent_data['input_sent']\n",
    "    output_sent = sent_data['output_sent']\n",
    "    if(query_sent == input_sent):\n",
    "        print(\"Found\")\n",
    "        print(UID)\n",
    "        break\n",
    "    if(query_sent == output_sent):\n",
    "        print(\"Found\")\n",
    "        break\n",
    "\n",
    "print(\"Not found\")"
   ]
  },
  {
   "cell_type": "code",
   "execution_count": 20,
   "metadata": {},
   "outputs": [
    {
     "data": {
      "text/plain": [
       "{'input_sent': 'ete_cAnye_ca_bahavo_guNAH_pANxusutezu_vE',\n",
       " 'output_sent': 'ete_ca-anye_ca_bahavaH-_guNAH_pANxu-sutezu_vE'}"
      ]
     },
     "execution_count": 20,
     "metadata": {},
     "output_type": "execute_result"
    }
   ],
   "source": [
    "H22_data_obj.return_sentence_data(107682)"
   ]
  },
  {
   "cell_type": "code",
   "execution_count": 1,
   "metadata": {},
   "outputs": [],
   "source": [
    "s = \"\"\"a a\n",
    "t t\n",
    "a a\n",
    "s s_\n",
    "t t\n",
    "v v\n",
    "a a\n",
    "M m\n",
    "_ _\n",
    "s s\n",
    "v v\n",
    "a a_\n",
    "p p\n",
    "a a\n",
    "t t\n",
    "i i\n",
    "m m\n",
    "_ _\n",
    "n n\n",
    "i i\n",
    "j j\n",
    "a a_\n",
    "S S\n",
    "a a\n",
    "r r\n",
    "I I\n",
    "r r\n",
    "a a\n",
    "s s\n",
    "y y\n",
    "a a\n",
    "_ _\n",
    "k k\n",
    "a a\n",
    "t t\n",
    "i i\n",
    "c c\n",
    "i i\n",
    "d d_\n",
    "d d\n",
    "i i\n",
    "n n\n",
    "a a_\n",
    "s s\n",
    "T T\n",
    "A A\n",
    "y y\n",
    "i i_\n",
    "y y\n",
    "O O\n",
    "v v\n",
    "a a\n",
    "n n\n",
    "a a\n",
    "s s\n",
    "y y\n",
    "a a\n",
    "_ _\n",
    "p p\n",
    "u u\n",
    "r r\n",
    "u u\n",
    "z z\n",
    "A a_a\n",
    "n n\n",
    "t t\n",
    "a a\n",
    "r r\n",
    "a a_\n",
    "r r\n",
    "a a\n",
    "m m\n",
    "a a\n",
    "N N\n",
    "A A\n",
    "d t_\n",
    "_ _\n",
    "g g\n",
    "R R\n",
    "h h\n",
    "A A\n",
    "N N\n",
    "a a\n",
    "_ _\n",
    "P P\n",
    "a a\n",
    "l l\n",
    "a a\n",
    "m m\"\"\""
   ]
  },
  {
   "cell_type": "code",
   "execution_count": 7,
   "metadata": {},
   "outputs": [
    {
     "name": "stdout",
     "output_type": "stream",
     "text": [
      "atas_tvam_sva_patim_nija_SarIrasya_katicid_dina_sTAyi_yOvanasya_puruza_antara_ramaNAt__gRhANa_Palam\n"
     ]
    }
   ],
   "source": [
    "osent = \"\"\n",
    "for ele in s.split(\"\\n\"):\n",
    "    i,o = ele.strip().split(\" \")\n",
    "    osent+=o\n",
    "print(osent)\n",
    "    "
   ]
  },
  {
   "cell_type": "code",
   "execution_count": null,
   "metadata": {},
   "outputs": [],
   "source": []
  }
 ],
 "metadata": {
  "kernelspec": {
   "display_name": "ChartIE",
   "language": "python",
   "name": "python3"
  },
  "language_info": {
   "codemirror_mode": {
    "name": "ipython",
    "version": 3
   },
   "file_extension": ".py",
   "mimetype": "text/x-python",
   "name": "python",
   "nbconvert_exporter": "python",
   "pygments_lexer": "ipython3",
   "version": "3.8.12"
  },
  "orig_nbformat": 4
 },
 "nbformat": 4,
 "nbformat_minor": 2
}
